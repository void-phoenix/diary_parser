{
 "cells": [
  {
   "cell_type": "code",
   "execution_count": 5,
   "metadata": {},
   "outputs": [],
   "source": [
    "base_url = \"https://www.diary.ru/\"\n",
    "sitemap_url = base_url + \"sitemap.xml\""
   ]
  },
  {
   "cell_type": "code",
   "execution_count": 3,
   "metadata": {},
   "outputs": [],
   "source": [
    "import xmltodict\n",
    "from urllib.request import urlopen"
   ]
  },
  {
   "cell_type": "code",
   "execution_count": 6,
   "metadata": {},
   "outputs": [],
   "source": [
    "xml_data = urlopen(sitemap_url).read().decode('utf-8')\n",
    "doc = xmltodict.parse(xml_data)    "
   ]
  },
  {
   "cell_type": "code",
   "execution_count": 10,
   "metadata": {},
   "outputs": [],
   "source": [
    "links_to_journals = []\n",
    "for v in doc['sitemapindex']['sitemap']:\n",
    "    link = v['loc']\n",
    "    if 'journals' in link:\n",
    "        links_to_journals.append(link)"
   ]
  },
  {
   "cell_type": "code",
   "execution_count": 11,
   "metadata": {},
   "outputs": [],
   "source": [
    "diaries = set()\n",
    "for journals in links_to_journals:\n",
    "    xml_data = urlopen(journals).read().decode('utf-8')\n",
    "    doc = xmltodict.parse(xml_data)\n",
    "    urlset = doc['urlset']['url']\n",
    "    for url in urlset:\n",
    "        diaries.add(url['loc'])"
   ]
  },
  {
   "cell_type": "code",
   "execution_count": 12,
   "metadata": {},
   "outputs": [
    {
     "data": {
      "text/plain": [
       "17342344"
      ]
     },
     "execution_count": 12,
     "metadata": {},
     "output_type": "execute_result"
    }
   ],
   "source": [
    "len(diaries)"
   ]
  },
  {
   "cell_type": "code",
   "execution_count": 15,
   "metadata": {
    "scrolled": false
   },
   "outputs": [],
   "source": [
    "with open('C:\\\\Users\\\\void\\\\conda projects\\\\diary_parser\\\\links', 'w') as f:\n",
    "    for link in diaries:\n",
    "        f.write(link + \"\\n\")"
   ]
  },
  {
   "cell_type": "code",
   "execution_count": null,
   "metadata": {},
   "outputs": [],
   "source": []
  }
 ],
 "metadata": {
  "kernelspec": {
   "display_name": "Python 3",
   "language": "python",
   "name": "python3"
  },
  "language_info": {
   "codemirror_mode": {
    "name": "ipython",
    "version": 3
   },
   "file_extension": ".py",
   "mimetype": "text/x-python",
   "name": "python",
   "nbconvert_exporter": "python",
   "pygments_lexer": "ipython3",
   "version": "3.7.6"
  }
 },
 "nbformat": 4,
 "nbformat_minor": 4
}
