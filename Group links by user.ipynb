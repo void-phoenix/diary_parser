{
 "cells": [
  {
   "cell_type": "code",
   "execution_count": 5,
   "metadata": {},
   "outputs": [],
   "source": [
    "with open('C:\\\\Users\\\\void\\\\conda projects\\\\diary_parser\\\\diaries\\\\all_links') as f:\n",
    "    data = f.readlines()\n",
    "data = [x[:-1] for x in data]"
   ]
  },
  {
   "cell_type": "code",
   "execution_count": 15,
   "metadata": {},
   "outputs": [],
   "source": [
    "def extract_username(link):\n",
    "    return link.replace('https://www.diary.ru/' ,'').split('/')[0][1:]"
   ]
  },
  {
   "cell_type": "code",
   "execution_count": 13,
   "metadata": {},
   "outputs": [],
   "source": [
    "import os"
   ]
  },
  {
   "cell_type": "code",
   "execution_count": 16,
   "metadata": {},
   "outputs": [],
   "source": [
    "links_by_user = {}\n",
    "for link in data:\n",
    "    user = extract_username(link)\n",
    "    if not user in links_by_user:\n",
    "        links_by_user[user] = []\n",
    "    links_by_user[user].append(link)"
   ]
  },
  {
   "cell_type": "code",
   "execution_count": 20,
   "metadata": {},
   "outputs": [],
   "source": [
    "for user in links_by_user:\n",
    "    path = 'C:\\\\Users\\\\void\\\\conda projects\\\\diary_parser\\\\diaries\\\\' + user\n",
    "    os.makedirs(path)\n",
    "    with open(path + '\\\\links', 'w') as f:\n",
    "        for link in links_by_user[user]:\n",
    "            f.write(link + '\\n')"
   ]
  },
  {
   "cell_type": "code",
   "execution_count": null,
   "metadata": {},
   "outputs": [],
   "source": []
  }
 ],
 "metadata": {
  "kernelspec": {
   "display_name": "Python 3",
   "language": "python",
   "name": "python3"
  },
  "language_info": {
   "codemirror_mode": {
    "name": "ipython",
    "version": 3
   },
   "file_extension": ".py",
   "mimetype": "text/x-python",
   "name": "python",
   "nbconvert_exporter": "python",
   "pygments_lexer": "ipython3",
   "version": "3.7.6"
  }
 },
 "nbformat": 4,
 "nbformat_minor": 4
}
